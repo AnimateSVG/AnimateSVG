{
 "cells": [
  {
   "cell_type": "markdown",
   "metadata": {
    "pycharm": {
     "name": "#%% md\n"
    }
   },
   "source": [
    "# Aesthetics Evaluation Model\n",
    "### Training of Feedforward Neural Network with Special Architecture for Ordinal Classification\n",
    "\n",
    "NOTE: In the methods and data paths of this repository, the aesthetics evaluation model is sometimes referred to as surrogate model or fitness function."
   ]
  },
  {
   "cell_type": "code",
   "execution_count": null,
   "metadata": {
    "jupyter": {
     "outputs_hidden": false
    },
    "pycharm": {
     "name": "#%%\n"
    }
   },
   "outputs": [],
   "source": [
    "import torch\n",
    "import torch.nn as nn\n",
    "import numpy as np\n",
    "import random\n",
    "import matplotlib.pyplot as plt\n",
    "import os\n",
    "import pickle\n",
    "os.chdir(\"..\")\n",
    "from sklearn.preprocessing import StandardScaler\n",
    "from src.models.ordinal_classifier_fnn import *\n",
    "from src.models.coral_loss import *\n",
    "from src.data.sm_dataloader import *\n",
    "from src.preprocessing.sm_label_transformer import *\n",
    "import torch.nn.functional as F\n",
    "from sklearn.metrics import mean_absolute_error"
   ]
  },
  {
   "cell_type": "markdown",
   "metadata": {},
   "source": [
    "### 1. Set seeds"
   ]
  },
  {
   "cell_type": "code",
   "execution_count": 2,
   "metadata": {
    "jupyter": {
     "outputs_hidden": false
    },
    "pycharm": {
     "name": "#%%\n"
    }
   },
   "outputs": [],
   "source": [
    "# Set seeds in order to reproduce results\n",
    "torch.manual_seed(73)\n",
    "random.seed(73)\n",
    "np.random.seed(73)"
   ]
  },
  {
   "cell_type": "markdown",
   "metadata": {
    "pycharm": {
     "name": "#%% md\n"
    }
   },
   "source": [
    "### 2. Load dataset"
   ]
  },
  {
   "cell_type": "code",
   "execution_count": 3,
   "metadata": {
    "jupyter": {
     "outputs_hidden": false
    },
    "pycharm": {
     "name": "#%%\n"
    }
   },
   "outputs": [
    {
     "data": {
      "text/plain": [
       "torch.Size([9650, 38])"
      ]
     },
     "execution_count": 3,
     "metadata": {},
     "output_type": "execute_result"
    }
   ],
   "source": [
    "# Replace by true labeled dataset if available\n",
    "train_dataset = DatasetSM(train=True, path=\"data/surrogate_model\")\n",
    "test_dataset = DatasetSM(train=False, path=\"data/surrogate_model\")\n",
    "train_dataset.X.shape"
   ]
  },
  {
   "cell_type": "code",
   "execution_count": 4,
   "metadata": {
    "jupyter": {
     "outputs_hidden": false
    },
    "pycharm": {
     "name": "#%%\n"
    }
   },
   "outputs": [
    {
     "data": {
      "text/plain": [
       "tensor([[1., 1., 1., 0.],\n",
       "        [1., 1., 1., 0.],\n",
       "        [0., 0., 0., 0.],\n",
       "        ...,\n",
       "        [1., 1., 0., 0.],\n",
       "        [0., 0., 0., 0.],\n",
       "        [0., 0., 0., 0.]])"
      ]
     },
     "execution_count": 4,
     "metadata": {},
     "output_type": "execute_result"
    }
   ],
   "source": [
    "train_dataset.y"
   ]
  },
  {
   "cell_type": "markdown",
   "metadata": {
    "pycharm": {
     "name": "#%% md\n"
    }
   },
   "source": [
    "### 3. Scale training and test data"
   ]
  },
  {
   "cell_type": "code",
   "execution_count": 8,
   "metadata": {
    "jupyter": {
     "outputs_hidden": false
    },
    "pycharm": {
     "name": "#%%\n"
    }
   },
   "outputs": [],
   "source": [
    "scaler = StandardScaler()\n",
    "\n",
    "# only scale numeric variables that are not one-hot encoded\n",
    "scaler.fit(train_dataset.X[:, 12:])\n",
    "train_dataset.scale(scaler)\n",
    "test_dataset.scale(scaler)\n",
    "\n",
    "#with open('models/sm_train_standard_scaler.pkl', 'wb') as output:\n",
    "#    pickle.dump(scaler, output, pickle.HIGHEST_PROTOCOL)"
   ]
  },
  {
   "cell_type": "code",
   "execution_count": 9,
   "metadata": {},
   "outputs": [
    {
     "data": {
      "text/plain": [
       "tensor([[ 0.0000,  0.0000,  0.0000,  ...,  0.8262,  0.9302,  0.0199],\n",
       "        [ 0.0000,  0.0000,  0.0000,  ...,  0.8262,  1.2502,  0.0199],\n",
       "        [ 1.0000,  0.0000,  0.0000,  ..., -1.8865, -2.0006,  0.0199],\n",
       "        ...,\n",
       "        [ 0.0000,  0.0000,  0.0000,  ...,  1.4181,  0.0049,  0.0199],\n",
       "        [ 1.0000,  0.0000,  0.0000,  ...,  0.4089, -0.0364,  0.0199],\n",
       "        [ 0.0000,  1.0000,  0.0000,  ...,  1.4181,  0.0049,  0.0199]])"
      ]
     },
     "execution_count": 9,
     "metadata": {},
     "output_type": "execute_result"
    }
   ],
   "source": [
    "train_dataset.X"
   ]
  },
  {
   "cell_type": "markdown",
   "metadata": {},
   "source": [
    "### 4. Train model"
   ]
  },
  {
   "cell_type": "markdown",
   "metadata": {
    "pycharm": {
     "name": "#%% md\n"
    }
   },
   "source": [
    "#### 4.1 Build model and switch to GPU if available"
   ]
  },
  {
   "cell_type": "code",
   "execution_count": 7,
   "metadata": {
    "jupyter": {
     "outputs_hidden": false
    },
    "pycharm": {
     "name": "#%%\n"
    }
   },
   "outputs": [
    {
     "name": "stdout",
     "output_type": "stream",
     "text": [
      "cpu\n"
     ]
    },
    {
     "data": {
      "text/plain": [
       "OrdinalClassifierFNN(\n",
       "  (hidden): ModuleList(\n",
       "    (0): Linear(in_features=38, out_features=28, bias=True)\n",
       "  )\n",
       "  (coral_weights): Linear(in_features=28, out_features=1, bias=False)\n",
       ")"
      ]
     },
     "execution_count": 7,
     "metadata": {},
     "output_type": "execute_result"
    }
   ],
   "source": [
    "fitness_function = OrdinalClassifierFNN(num_classes=5, layer_sizes=[38,28])\n",
    "\n",
    "device = torch.device(\"cuda:0\" if torch.cuda.is_available() else \"cpu\")\n",
    "print(device)\n",
    "fitness_function.to(device)"
   ]
  },
  {
   "cell_type": "code",
   "execution_count": 9,
   "metadata": {},
   "outputs": [
    {
     "name": "stdout",
     "output_type": "stream",
     "text": [
      "tensor([[ 0.6286,  0.3786,  0.1286, -0.1214],\n",
      "        [ 0.6286,  0.3786,  0.1286, -0.1214],\n",
      "        [ 0.5995,  0.3495,  0.0995, -0.1505],\n",
      "        [ 0.6286,  0.3786,  0.1286, -0.1214],\n",
      "        [ 0.7219,  0.4719,  0.2219, -0.0281]], grad_fn=<AddBackward0>)\n"
     ]
    },
    {
     "data": {
      "text/plain": [
       "tensor([[0.6522, 0.5935, 0.5321, 0.4697],\n",
       "        [0.6522, 0.5935, 0.5321, 0.4697],\n",
       "        [0.6455, 0.5865, 0.5249, 0.4625],\n",
       "        [0.6522, 0.5935, 0.5321, 0.4697],\n",
       "        [0.6730, 0.6158, 0.5553, 0.4930]], grad_fn=<SigmoidBackward>)"
      ]
     },
     "execution_count": 9,
     "metadata": {},
     "output_type": "execute_result"
    }
   ],
   "source": [
    "res = fitness_function(test_dataset.X[:5])\n",
    "print(res)\n",
    "torch.sigmoid(res)"
   ]
  },
  {
   "cell_type": "markdown",
   "metadata": {
    "pycharm": {
     "name": "#%% md\n"
    }
   },
   "source": [
    "#### 4.2 Define optimizer and additional measure to report (optional)"
   ]
  },
  {
   "cell_type": "code",
   "execution_count": 11,
   "metadata": {
    "jupyter": {
     "outputs_hidden": false
    },
    "pycharm": {
     "name": "#%%\n"
    }
   },
   "outputs": [],
   "source": [
    "report_measure = nn.L1Loss()\n",
    "optimizer = torch.optim.Adam(fitness_function.parameters())"
   ]
  },
  {
   "cell_type": "markdown",
   "metadata": {
    "pycharm": {
     "name": "#%% md\n"
    }
   },
   "source": [
    "#### 4.3 Define Data loaders"
   ]
  },
  {
   "cell_type": "code",
   "execution_count": 14,
   "metadata": {
    "jupyter": {
     "outputs_hidden": false
    },
    "pycharm": {
     "name": "#%%\n"
    }
   },
   "outputs": [],
   "source": [
    "# Useful because it automatically generates batches in the training loop and takes care of shuffling\n",
    "\n",
    "batch_size = 128\n",
    "train_loader = torch.utils.data.DataLoader(dataset=train_dataset,\n",
    "                                           batch_size=batch_size,\n",
    "                                           shuffle=True)\n",
    "\n",
    "test_loader = torch.utils.data.DataLoader(dataset=test_dataset,\n",
    "                                          batch_size=batch_size,\n",
    "                                          shuffle=False)"
   ]
  },
  {
   "cell_type": "markdown",
   "metadata": {
    "pycharm": {
     "name": "#%% md\n"
    }
   },
   "source": [
    "#### 4.4 Actual Model training"
   ]
  },
  {
   "cell_type": "code",
   "execution_count": 19,
   "metadata": {
    "jupyter": {
     "outputs_hidden": false
    },
    "pycharm": {
     "name": "#%%\n"
    },
    "scrolled": true
   },
   "outputs": [
    {
     "name": "stdout",
     "output_type": "stream",
     "text": [
      "Epoch 1/100, Train Loss: 1.5840, Test Loss: 1.6183 Train Binary MAE: 0.2730, Test Binary MAE: 0.2749, Train Accuracy: 0.4587, Test Accuracy: 0.4580, Train Label MAE:  0.6831, Test Label MAE:  0.6688\n",
      "Epoch 10/100, Train Loss: 1.5408, Test Loss: 1.5708 Train Binary MAE: 0.2594, Test Binary MAE: 0.2607, Train Accuracy: 0.4588, Test Accuracy: 0.4681, Train Label MAE:  0.6746, Test Label MAE:  0.6519\n",
      "Epoch 20/100, Train Loss: 1.5147, Test Loss: 1.5723 Train Binary MAE: 0.2501, Test Binary MAE: 0.2535, Train Accuracy: 0.4530, Test Accuracy: 0.4525, Train Label MAE:  0.6751, Test Label MAE:  0.6671\n",
      "Epoch 30/100, Train Loss: 1.5010, Test Loss: 1.5549 Train Binary MAE: 0.2442, Test Binary MAE: 0.2474, Train Accuracy: 0.4595, Test Accuracy: 0.4612, Train Label MAE:  0.6654, Test Label MAE:  0.6519\n",
      "Epoch 40/100, Train Loss: 1.4912, Test Loss: 1.5546 Train Binary MAE: 0.2403, Test Binary MAE: 0.2455, Train Accuracy: 0.4580, Test Accuracy: 0.4561, Train Label MAE:  0.6647, Test Label MAE:  0.6562\n",
      "Epoch 50/100, Train Loss: 1.4893, Test Loss: 1.5524 Train Binary MAE: 0.2384, Test Binary MAE: 0.2428, Train Accuracy: 0.4583, Test Accuracy: 0.4603, Train Label MAE:  0.6645, Test Label MAE:  0.6528\n",
      "Epoch 60/100, Train Loss: 1.4819, Test Loss: 1.5526 Train Binary MAE: 0.2371, Test Binary MAE: 0.2427, Train Accuracy: 0.4630, Test Accuracy: 0.4451, Train Label MAE:  0.6573, Test Label MAE:  0.6688\n",
      "Epoch 70/100, Train Loss: 1.4733, Test Loss: 1.5715 Train Binary MAE: 0.2356, Test Binary MAE: 0.2421, Train Accuracy: 0.4629, Test Accuracy: 0.4479, Train Label MAE:  0.6539, Test Label MAE:  0.6641\n",
      "Epoch 80/100, Train Loss: 1.4697, Test Loss: 1.5570 Train Binary MAE: 0.2350, Test Binary MAE: 0.2419, Train Accuracy: 0.4597, Test Accuracy: 0.4465, Train Label MAE:  0.6577, Test Label MAE:  0.6667\n",
      "Epoch 90/100, Train Loss: 1.4681, Test Loss: 1.5411 Train Binary MAE: 0.2346, Test Binary MAE: 0.2399, Train Accuracy: 0.4623, Test Accuracy: 0.4424, Train Label MAE:  0.6538, Test Label MAE:  0.7222\n",
      "Epoch 100/100, Train Loss: 1.4668, Test Loss: 1.5656 Train Binary MAE: 0.2339, Test Binary MAE: 0.2406, Train Accuracy: 0.4583, Test Accuracy: 0.4502, Train Label MAE:  0.6582, Test Label MAE:  0.6645\n"
     ]
    }
   ],
   "source": [
    "n_epochs = 100\n",
    "\n",
    "# Stuff to store\n",
    "train_losses = np.zeros(n_epochs)\n",
    "train_bin_maes = np.zeros(n_epochs)\n",
    "train_accuracies = np.zeros(n_epochs)\n",
    "train_label_maes = np.zeros(n_epochs)\n",
    "\n",
    "test_losses = np.zeros(n_epochs)\n",
    "test_bin_maes = np.zeros(n_epochs)\n",
    "test_accuracies = np.zeros(n_epochs)\n",
    "test_label_maes = np.zeros(n_epochs)\n",
    "\n",
    "\n",
    "for it in range(n_epochs):\n",
    "    train_loss = []\n",
    "    test_loss = []\n",
    "    train_bin_mae = []\n",
    "    test_bin_mae = []\n",
    "    train_label_mae = []\n",
    "    test_label_mae = []\n",
    "    correct_train = 0\n",
    "    correct_test = 0\n",
    "    for inputs, targets in train_loader:\n",
    "        # move data to GPU\n",
    "        inputs, targets = inputs.to(device), targets.to(device)\n",
    "\n",
    "        # zero the parameter gradients\n",
    "        optimizer.zero_grad()\n",
    "        \n",
    "        # Forward pass\n",
    "        outputs = fitness_function(inputs)\n",
    "        loss = coral_loss(outputs, targets)\n",
    "        \n",
    "        # Backward and optimize\n",
    "        loss.backward()\n",
    "        optimizer.step()\n",
    "\n",
    "        # Store loss and other report measures\n",
    "        train_loss.append(loss.item())\n",
    "        train_bin_mae.append(report_measure(torch.sigmoid(outputs), targets).item())\n",
    "        train_label_mae.append(mean_absolute_error(decode_classes(targets), decode_classes(torch.sigmoid(outputs))))\n",
    "        \n",
    "        # Count correct predictions\n",
    "        correct_train += (decode_classes(torch.sigmoid(outputs)) == decode_classes(targets)).sum()\n",
    "        \n",
    "    # Get train loss and test loss\n",
    "    train_loss = np.mean(train_loss)\n",
    "    train_bin_mae = np.mean(train_bin_mae)\n",
    "    train_label_mae = np.mean(train_label_mae)\n",
    "    \n",
    "    # Get train accuracy\n",
    "    train_accuracy = correct_train / len(train_dataset.X)\n",
    "    \n",
    "    predicted_classes = []\n",
    "    for inputs, targets in test_loader:\n",
    "        inputs, targets = inputs.to(device), targets.to(device)\n",
    "        outputs = fitness_function(inputs)\n",
    "        loss = coral_loss(outputs, targets)\n",
    "        test_loss.append(loss.item())\n",
    "        test_bin_mae.append(report_measure(torch.sigmoid(outputs), targets).item())\n",
    "        test_label_mae.append(mean_absolute_error(decode_classes(targets), decode_classes(torch.sigmoid(outputs))))\n",
    "        correct_test += (decode_classes(torch.sigmoid(outputs)) == decode_classes(targets)).sum()\n",
    "    test_loss = np.mean(test_loss)\n",
    "    test_bin_mae = np.mean(test_bin_mae)\n",
    "    test_label_mae = np.mean(test_label_mae)\n",
    "    test_accuracy = correct_test / len(test_dataset.X)\n",
    "\n",
    "    # Save losses\n",
    "    train_losses[it] = train_loss\n",
    "    train_bin_maes[it] = train_bin_mae\n",
    "    test_losses[it] = test_loss\n",
    "    test_bin_maes[it] = test_bin_mae\n",
    "    train_label_maes[it] = train_label_mae\n",
    "    test_label_maes[it] = test_label_mae\n",
    "    train_accuracies[it] = train_accuracy\n",
    "    test_accuracies[it] = test_accuracy\n",
    "\n",
    "    if (it + 1) % 10 == 0 or it==0:\n",
    "        print(f'Epoch {it + 1}/{n_epochs}, Train Loss: {train_loss:.4f}, Test Loss: {test_loss:.4f}'\n",
    "              f' Train Binary MAE: {train_bin_mae:.4f}, Test Binary MAE: {test_bin_mae:.4f}, Train Accuracy: {train_accuracy:.4f}, Test Accuracy: {test_accuracy:.4f}, Train Label MAE:  {train_label_mae:.4f}, Test Label MAE:  {test_label_mae:.4f}')"
   ]
  },
  {
   "cell_type": "markdown",
   "metadata": {},
   "source": [
    "### 5. Evaluate model performance"
   ]
  },
  {
   "cell_type": "markdown",
   "metadata": {},
   "source": [
    "#### 5.1 Compute benchmark performance values"
   ]
  },
  {
   "cell_type": "code",
   "execution_count": 12,
   "metadata": {},
   "outputs": [],
   "source": [
    "# Reward distribution in training dataset\n",
    "unique_train, counts_train = np.unique(decode_classes(train_dataset.y).flatten(), return_counts=True)\n",
    "train_scores = dict(zip(unique_train, counts_train))\n",
    "n_train = len(train_dataset)\n",
    "\n",
    "# Get average evaluation score of training dataset\n",
    "sum_ = 0\n",
    "for k,v in train_scores.items():\n",
    "    sum_ += (k*v)\n",
    "avg_train = sum_ / n_train\n",
    "\n",
    "# Reward distribution in test dataset\n",
    "unique_test, counts_test = np.unique(decode_classes(test_dataset.y).flatten(), return_counts=True)\n",
    "test_scores = dict(zip(unique_test, counts_test))\n",
    "n_test = len(test_dataset)\n",
    "\n",
    "# Get average evaluation score of test dataset\n",
    "sum_ = 0\n",
    "for k,v in test_scores.items():\n",
    "    sum_ += (k*v)\n",
    "avg_test = sum_ / n_test\n",
    "\n",
    "# Accuracy for majority classifier\n",
    "acc = test_scores[2]/n_test\n",
    "\n",
    "# Label MAE for constant prediction of class 2\n",
    "label_mae = 2*(test_scores[0]+test_scores[4])/n_test + 1*(test_scores[1]+test_scores[3])/n_test\n",
    "\n",
    "# Binary MAE for constant prediction of class 2 (1,1,0,0)\n",
    "binary_mae = (test_scores[0]*0.5 + test_scores[1]*0.25 + test_scores[3]*0.25 + test_scores[4]*0.5)/n_test"
   ]
  },
  {
   "cell_type": "code",
   "execution_count": 13,
   "metadata": {},
   "outputs": [
    {
     "name": "stdout",
     "output_type": "stream",
     "text": [
      "Number of training instances: 9650\n",
      "Distribution of reward classes in training dataset: {0: 2580, 1: 2143, 2: 3096, 3: 1521, 4: 310}\n",
      "Average reward on training dataset: 1.4651\n",
      "\n",
      "Number of test instances: 2177\n",
      "Distribution of reward classes in test dataset: {0: 498, 1: 414, 2: 763, 3: 412, 4: 90}\n",
      "Average reward on test dataset: 1.6243\n",
      "\n",
      "==============================   Benchmarks   ==============================\n",
      "\n",
      "Test Benchmark Accuracy: 0.3505\n",
      "Test Benchmark Label MAE: 0.9196\n",
      "Test Benchmark Binary MAE: 0.2299\n"
     ]
    }
   ],
   "source": [
    "print(f'Number of training instances: {n_train}')\n",
    "print(f'Distribution of reward classes in training dataset: {train_scores}')\n",
    "print(f'Average reward on training dataset: {avg_train :.4f}\\n')\n",
    "\n",
    "print(f'Number of test instances: {n_test}')\n",
    "print(f'Distribution of reward classes in test dataset: {test_scores}')\n",
    "print(f'Average reward on test dataset: {avg_test :.4f}\\n')\n",
    "\n",
    "print('=' * 30 + '   Benchmarks   ' + '=' * 30)\n",
    "\n",
    "print(f'\\nTest Benchmark Accuracy: {acc :.4f}')\n",
    "print(f'Test Benchmark Label MAE: {label_mae :.4f}')\n",
    "print(f'Test Benchmark Binary MAE: {binary_mae :.4f}')"
   ]
  },
  {
   "cell_type": "markdown",
   "metadata": {
    "pycharm": {
     "name": "#%% md\n"
    }
   },
   "source": [
    "#### 5.2 Plot the train loss and test loss per epoch"
   ]
  },
  {
   "cell_type": "code",
   "execution_count": 14,
   "metadata": {
    "jupyter": {
     "outputs_hidden": false
    },
    "pycharm": {
     "name": "#%%\n"
    }
   },
   "outputs": [
    {
     "data": {
      "image/png": "[encoded data removed]",
      "text/plain": [
       "<Figure size 432x288 with 1 Axes>"
      ]
     },
     "metadata": {
      "needs_background": "light"
     },
     "output_type": "display_data"
    }
   ],
   "source": [
    "plt.plot(train_losses, label='train loss')\n",
    "plt.plot(test_losses, label='test loss')\n",
    "plt.legend()\n",
    "plt.show()"
   ]
  },
  {
   "cell_type": "code",
   "execution_count": 15,
   "metadata": {},
   "outputs": [
    {
     "data": {
      "image/png": "[encoded data removed]",
      "text/plain": [
       "<Figure size 432x288 with 1 Axes>"
      ]
     },
     "metadata": {
      "needs_background": "light"
     },
     "output_type": "display_data"
    }
   ],
   "source": [
    "plt.plot(train_bin_maes, label='train binary MAE')\n",
    "plt.plot(test_bin_maes, label='test binary MAE')\n",
    "plt.hlines(binary_mae, xmin=0, xmax=n_epochs, color='red')\n",
    "plt.legend()\n",
    "plt.show()"
   ]
  },
  {
   "cell_type": "code",
   "execution_count": 16,
   "metadata": {},
   "outputs": [
    {
     "data": {
      "image/png": "[encoded data removed]",
      "text/plain": [
       "<Figure size 432x288 with 1 Axes>"
      ]
     },
     "metadata": {
      "needs_background": "light"
     },
     "output_type": "display_data"
    }
   ],
   "source": [
    "plt.plot(train_label_maes, label='train label MAE')\n",
    "plt.plot(test_label_maes, label='test label MAE')\n",
    "plt.hlines(label_mae, xmin=0, xmax=n_epochs, color='red')\n",
    "plt.legend()\n",
    "plt.show()"
   ]
  },
  {
   "cell_type": "code",
   "execution_count": 17,
   "metadata": {},
   "outputs": [
    {
     "data": {
      "image/png": "[encoded data removed]",
      "text/plain": [
       "<Figure size 432x288 with 1 Axes>"
      ]
     },
     "metadata": {
      "needs_background": "light"
     },
     "output_type": "display_data"
    }
   ],
   "source": [
    "plt.plot(train_accuracies, label='train accuracy')\n",
    "plt.plot(test_accuracies, label='test accuracy')\n",
    "plt.hlines(acc, xmin=0, xmax=n_epochs, color='red')\n",
    "plt.legend()\n",
    "plt.show()"
   ]
  },
  {
   "cell_type": "markdown",
   "metadata": {},
   "source": [
    "### 6. Save trained model\n",
    "Note: The following line is commented since the fitted model is already saved. Running it again would overwrite the previous model."
   ]
  },
  {
   "cell_type": "code",
   "execution_count": 19,
   "metadata": {
    "jupyter": {
     "outputs_hidden": false
    },
    "pycharm": {
     "name": "#%%\n"
    }
   },
   "outputs": [],
   "source": [
    "#torch.save(fitness_function.state_dict(), \"models/sm_fnn.pth\")"
   ]
  }
 ],
 "metadata": {
  "kernelspec": {
   "display_name": "Python 3",
   "language": "python",
   "name": "python3"
  },
  "language_info": {
   "codemirror_mode": {
    "name": "ipython",
    "version": 3
   },
   "file_extension": ".py",
   "mimetype": "text/x-python",
   "name": "python",
   "nbconvert_exporter": "python",
   "pygments_lexer": "ipython3",
   "version": "3.7.11"
  }
 },
 "nbformat": 4,
 "nbformat_minor": 4
}
