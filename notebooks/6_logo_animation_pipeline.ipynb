{
 "cells": [
  {
   "cell_type": "markdown",
   "id": "cb7de992",
   "metadata": {},
   "source": [
    "# SVG Pipeline"
   ]
  },
  {
   "cell_type": "code",
   "execution_count": 1,
   "id": "255650e7",
   "metadata": {},
   "outputs": [
    {
     "name": "stderr",
     "output_type": "stream",
     "text": [
      "C:\\Users\\Rebecca\\.conda\\envs\\animate_logos_2\\lib\\site-packages\\numpy\\_distributor_init.py:32: UserWarning: loaded more than 1 DLL from .libs:\n",
      "C:\\Users\\Rebecca\\.conda\\envs\\animate_logos_2\\lib\\site-packages\\numpy\\.libs\\libopenblas.gk7gx5keq4f6uyo3p26ulgbqyhgqo7j4.gfortran-win_amd64.dll\n",
      "C:\\Users\\Rebecca\\.conda\\envs\\animate_logos_2\\lib\\site-packages\\numpy\\.libs\\libopenblas.WCDJNK7YVMPZQ2ME2ZZHJJRJ3JIKNDB7.gfortran-win_amd64.dll\n",
      "C:\\Users\\Rebecca\\.conda\\envs\\animate_logos_2\\lib\\site-packages\\numpy\\.libs\\libopenblas.XWYDX2IKJW2NMTWSFYNGFUWKQU3LYTCZ.gfortran-win_amd64.dll\n",
      "  stacklevel=1)\n"
     ]
    }
   ],
   "source": [
    "import os\n",
    "os.chdir(\"..\")\n",
    "from src.pipeline import * "
   ]
  },
  {
   "cell_type": "markdown",
   "id": "dc696088",
   "metadata": {},
   "source": [
    "### Load Logo"
   ]
  },
  {
   "cell_type": "code",
   "execution_count": 2,
   "id": "bfd4d434",
   "metadata": {},
   "outputs": [],
   "source": [
    "logo = Logo(data_dir=\"data/uploads/logo_169.svg\")  # previously: logo_181"
   ]
  },
  {
   "cell_type": "markdown",
   "id": "3f7228fe",
   "metadata": {},
   "source": [
    "### Print Logo Information"
   ]
  },
  {
   "cell_type": "code",
   "execution_count": 3,
   "id": "103cc5a0",
   "metadata": {},
   "outputs": [
    {
     "name": "stdout",
     "output_type": "stream",
     "text": [
      "--------------------------- Logo Information ---------------------------\n",
      "data_dir: data/uploads/logo_169.svg\n",
      "parsed_doc: <xml.dom.minidom.Document object at 0x000001F75EC26D68>\n",
      "nr_paths: 42\n",
      "animation_ids: [0, 1, 2, 3, 4, 5, 6, 7, 8, 9, 10, 11, 12, 13, 14, 15, 16, 17, 18, 19, 20, 21, 22, 23, 24, 25, 26, 27, 28, 29, 30, 31, 32, 33, 34, 35, 36, 37, 38, 39, 40, 41]\n",
      "width, height: 569.74, 361.64654526162076\n",
      "bbox: 12.77, 582.51, 14.760000000000005, 376.40654526162075\n"
     ]
    }
   ],
   "source": [
    "logo.print_logo_information()"
   ]
  },
  {
   "cell_type": "markdown",
   "id": "ad5c8ef5",
   "metadata": {},
   "source": [
    "### Create Logo Animations"
   ]
  },
  {
   "cell_type": "code",
   "execution_count": 4,
   "id": "d85b2d2e",
   "metadata": {},
   "outputs": [
    {
     "name": "stdout",
     "output_type": "stream",
     "text": [
      "2022-07-25 03:54:12::INFO::Number of animated paths: 22/42\n",
      "2022-07-25 03:54:12::INFO::Non-animated paths won't be used for training\n",
      "2022-07-25 03:54:12::INFO::Start extraction midpoint of animated paths as feature\n",
      "Wall time: 29.8 s\n"
     ]
    }
   ],
   "source": [
    "%%time\n",
    "logo.animate(model='backprop')"
   ]
  },
  {
   "cell_type": "code",
   "execution_count": 5,
   "id": "f98fb568",
   "metadata": {},
   "outputs": [
    {
     "name": "stdout",
     "output_type": "stream",
     "text": [
      "2022-07-25 03:54:41::INFO::Number of animated paths: 22/42\n",
      "2022-07-25 03:54:41::INFO::Non-animated paths won't be used for training\n",
      "2022-07-25 03:54:41::INFO::Start extraction midpoint of animated paths as feature\n",
      "Academic license - for non-commercial use only - expires 2023-07-20\n",
      "Using license file C:\\Users\\Rebecca\\gurobi.lic\n",
      "Wall time: 4min 37s\n"
     ]
    }
   ],
   "source": [
    "%%time\n",
    "logo.animate(model='opt')"
   ]
  },
  {
   "cell_type": "code",
   "execution_count": null,
   "id": "f6529bd5",
   "metadata": {},
   "outputs": [],
   "source": []
  }
 ],
 "metadata": {
  "kernelspec": {
   "display_name": "animate_logos_2",
   "language": "python",
   "name": "animate_logos_2"
  },
  "language_info": {
   "codemirror_mode": {
    "name": "ipython",
    "version": 3
   },
   "file_extension": ".py",
   "mimetype": "text/x-python",
   "name": "python",
   "nbconvert_exporter": "python",
   "pygments_lexer": "ipython3",
   "version": "3.7.11"
  }
 },
 "nbformat": 4,
 "nbformat_minor": 5
}
