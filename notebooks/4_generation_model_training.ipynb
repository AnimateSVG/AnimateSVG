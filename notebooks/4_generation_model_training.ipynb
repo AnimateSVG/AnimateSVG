{
 "cells": [
  {
   "cell_type": "code",
   "execution_count": 1,
   "id": "5f02f267",
   "metadata": {},
   "outputs": [],
   "source": [
    "import warnings, pickle, os\n",
    "warnings.filterwarnings(\"ignore\")\n",
    "os.chdir(\"..\")\n",
    "\n",
    "import torch, random\n",
    "import torch.nn as nn\n",
    "\n",
    "import pandas as pd\n",
    "import numpy as np\n",
    "from datetime import datetime\n",
    "from collections import Counter\n",
    "import matplotlib.pyplot as plt"
   ]
  },
  {
   "cell_type": "code",
   "execution_count": 2,
   "id": "b3a4f511",
   "metadata": {},
   "outputs": [],
   "source": [
    "pd.set_option('display.max_columns', None)\n",
    "pd.set_option('display.max_rows', None)"
   ]
  },
  {
   "cell_type": "code",
   "execution_count": 3,
   "id": "d5d51fea",
   "metadata": {},
   "outputs": [],
   "source": [
    "%load_ext autoreload\n",
    "%autoreload 2"
   ]
  },
  {
   "cell_type": "code",
   "execution_count": 4,
   "id": "cc50cecf",
   "metadata": {},
   "outputs": [],
   "source": [
    "from sklearn.preprocessing import StandardScaler\n",
    "from src.data.sm_dataloader import *\n",
    "from src.data.ap_dataloader import *\n",
    "from src.preprocessing.sm_label_transformer import *\n",
    "import torch.nn.functional as F\n",
    "from sklearn.metrics import mean_absolute_error"
   ]
  },
  {
   "cell_type": "code",
   "execution_count": 5,
   "id": "93c69313",
   "metadata": {},
   "outputs": [],
   "source": [
    "from src.animations.insert_animation import *\n",
    "from src.models import config\n",
    "from src.preprocessing.sm_label_transformer import *\n",
    "from src.models.ordinal_classifier_fnn import *\n",
    "from src.models.animation_prediction import AnimationPredictor\n",
    "from src.models.train_animation_predictor import *"
   ]
  },
  {
   "cell_type": "code",
   "execution_count": 6,
   "id": "f4ba5176",
   "metadata": {},
   "outputs": [],
   "source": [
    "train_dataset = DatasetAP(path='data/path_selector', train=True)\n",
    "test_dataset = DatasetAP(path='data/path_selector', train=False)"
   ]
  },
  {
   "cell_type": "code",
   "execution_count": 7,
   "id": "4378d32f",
   "metadata": {},
   "outputs": [],
   "source": [
    "# NEW: implemented scaling for training to work\n",
    "scaler = StandardScaler()\n",
    "\n",
    "# only scale numeric variables that are not one-hot encoded\n",
    "scaler.fit(train_dataset.X[:, :])\n",
    "train_dataset.scale(scaler)\n",
    "test_dataset.scale(scaler)"
   ]
  },
  {
   "cell_type": "code",
   "execution_count": 8,
   "id": "5e62a418",
   "metadata": {},
   "outputs": [
    {
     "data": {
      "text/plain": [
       "tensor([ 1.3303,  0.2945, -0.3531, -0.2461, -0.7445,  1.7896,  0.4351, -1.2801,\n",
       "         3.7392, -1.0522,  0.6150, -1.1097,  0.2561,  1.4655,  0.6084,  0.1744,\n",
       "        -0.3207, -1.3953,  0.1337,  0.0670, -0.0996,  1.1757,  0.6242,  1.0308,\n",
       "         0.5682, -0.5961])"
      ]
     },
     "execution_count": 8,
     "metadata": {},
     "output_type": "execute_result"
    }
   ],
   "source": [
    "train_dataset.X[0]"
   ]
  },
  {
   "cell_type": "code",
   "execution_count": 9,
   "id": "894a87a9",
   "metadata": {},
   "outputs": [
    {
     "data": {
      "text/plain": [
       "torch.Size([441, 26])"
      ]
     },
     "execution_count": 9,
     "metadata": {},
     "output_type": "execute_result"
    }
   ],
   "source": [
    "test_dataset.X.shape"
   ]
  },
  {
   "cell_type": "markdown",
   "id": "ea2de5e8",
   "metadata": {},
   "source": [
    "### Animation predictor model"
   ]
  },
  {
   "cell_type": "code",
   "execution_count": 10,
   "id": "e3d78356",
   "metadata": {},
   "outputs": [],
   "source": [
    "animation_predictor = AnimationPredictor()"
   ]
  },
  {
   "cell_type": "code",
   "execution_count": 11,
   "id": "159c83f7",
   "metadata": {},
   "outputs": [
    {
     "name": "stdout",
     "output_type": "stream",
     "text": [
      "cpu\n"
     ]
    }
   ],
   "source": [
    "device = torch.device('cuda:0' if torch.cuda.is_available() else 'cpu')\n",
    "print(device)"
   ]
  },
  {
   "cell_type": "code",
   "execution_count": 12,
   "id": "8ea322bf",
   "metadata": {},
   "outputs": [
    {
     "data": {
      "text/plain": [
       "AnimationPredictor(\n",
       "  (hidden_1): Linear(in_features=26, out_features=15, bias=True)\n",
       "  (hidden_2): Linear(in_features=32, out_features=20, bias=True)\n",
       "  (out_1): Linear(in_features=15, out_features=6, bias=True)\n",
       "  (out_2): Linear(in_features=20, out_features=6, bias=True)\n",
       ")"
      ]
     },
     "execution_count": 12,
     "metadata": {},
     "output_type": "execute_result"
    }
   ],
   "source": [
    "animation_predictor.to(device)"
   ]
  },
  {
   "cell_type": "code",
   "execution_count": 13,
   "id": "47795cc8",
   "metadata": {},
   "outputs": [],
   "source": [
    "animations = animation_predictor(test_dataset.X[:5])"
   ]
  },
  {
   "cell_type": "code",
   "execution_count": 14,
   "id": "95c0b9ce",
   "metadata": {},
   "outputs": [],
   "source": [
    "learning_rate = 0.0005"
   ]
  },
  {
   "cell_type": "code",
   "execution_count": 15,
   "id": "36107f12",
   "metadata": {},
   "outputs": [],
   "source": [
    "# learning rate may be increased for faster convergence of training\n",
    "optimizer = torch.optim.Adam(animation_predictor.parameters(), lr=learning_rate)"
   ]
  },
  {
   "cell_type": "code",
   "execution_count": 16,
   "id": "1ec5bcc3",
   "metadata": {},
   "outputs": [],
   "source": [
    "batch_size = 64\n",
    "train_loader = torch.utils.data.DataLoader(dataset=train_dataset, batch_size=batch_size, shuffle=False)\n",
    "test_loader = torch.utils.data.DataLoader(dataset=test_dataset, batch_size=batch_size, shuffle=False)"
   ]
  },
  {
   "cell_type": "code",
   "execution_count": 17,
   "id": "be69a086",
   "metadata": {},
   "outputs": [],
   "source": [
    "# number of epochs may be decreased if learninig rate gets increased\n",
    "n_epochs = 30\n",
    "\n",
    "train_losses = np.zeros(n_epochs)\n",
    "test_losses = np.zeros(n_epochs)"
   ]
  },
  {
   "cell_type": "code",
   "execution_count": 18,
   "id": "bc4c9b10",
   "metadata": {
    "scrolled": false
   },
   "outputs": [
    {
     "name": "stdout",
     "output_type": "stream",
     "text": [
      "Epoch: 1/30::Train loss=0.7000, test loss=0.7161\n",
      "Epoch: 2/30::Train loss=0.6992, test loss=0.7249\n",
      "Epoch: 3/30::Train loss=0.7028, test loss=0.7257\n",
      "Epoch: 4/30::Train loss=0.6993, test loss=0.7198\n",
      "Epoch: 5/30::Train loss=0.6864, test loss=0.7045\n",
      "Epoch: 6/30::Train loss=0.6700, test loss=0.6991\n",
      "Epoch: 7/30::Train loss=0.6613, test loss=0.6959\n",
      "Epoch: 8/30::Train loss=0.6507, test loss=0.6830\n",
      "Epoch: 9/30::Train loss=0.6412, test loss=0.6745\n",
      "Epoch: 10/30::Train loss=0.6286, test loss=0.6612\n",
      "Epoch: 11/30::Train loss=0.6192, test loss=0.6466\n",
      "Epoch: 12/30::Train loss=0.6104, test loss=0.6434\n",
      "Epoch: 13/30::Train loss=0.6049, test loss=0.6333\n",
      "Epoch: 14/30::Train loss=0.6010, test loss=0.6221\n",
      "Epoch: 15/30::Train loss=0.5974, test loss=0.6212\n",
      "Epoch: 16/30::Train loss=0.5926, test loss=0.6180\n",
      "Epoch: 17/30::Train loss=0.5896, test loss=0.6164\n",
      "Epoch: 18/30::Train loss=0.5862, test loss=0.6147\n",
      "Epoch: 19/30::Train loss=0.5832, test loss=0.6111\n",
      "Epoch: 20/30::Train loss=0.5803, test loss=0.6030\n",
      "Epoch: 21/30::Train loss=0.5768, test loss=0.5971\n",
      "Epoch: 22/30::Train loss=0.5754, test loss=0.5892\n",
      "Epoch: 23/30::Train loss=0.5726, test loss=0.5740\n",
      "Epoch: 24/30::Train loss=0.5686, test loss=0.5653\n",
      "Epoch: 25/30::Train loss=0.5649, test loss=0.5569\n",
      "Epoch: 26/30::Train loss=0.5608, test loss=0.5500\n",
      "Epoch: 27/30::Train loss=0.5579, test loss=0.5409\n",
      "Epoch: 28/30::Train loss=0.5553, test loss=0.5363\n",
      "Epoch: 29/30::Train loss=0.5531, test loss=0.5347\n",
      "Epoch: 30/30::Train loss=0.5496, test loss=0.5326\n",
      "Wall time: 38.9 s\n"
     ]
    }
   ],
   "source": [
    "%%time\n",
    "sm = OrdinalClassifierFNN(num_classes=5, layer_sizes=[38, 28])\n",
    "sm.load_state_dict(torch.load('models/sm_fnn.pth'))\n",
    "for p in sm.parameters():\n",
    "    p.requires_grad = False\n",
    "sm.eval()\n",
    "\n",
    "for it in range(n_epochs):\n",
    "    train_loss, test_loss = list(), list()\n",
    "    \n",
    "    for inputs, targets in train_loader:\n",
    "        inputs, targets = inputs.to(device), targets.to(device)\n",
    "        \n",
    "        # zero the parameter gradients\n",
    "        optimizer.zero_grad()\n",
    "        \n",
    "        # forward pass\n",
    "        outputs = create_animation_vector(animation_predictor.forward(inputs)) # output: animation vector\n",
    "        sm_logits = sm(outputs) # output: network logits (4 nodes per example)\n",
    "        sm_probas = torch.sigmoid(sm_logits) # output: probabilities between 0 and 1 (4 nodes per example, DO NOT necessarily sum up to 1)\n",
    "        loss = -(sm_probas).mean() # just use mean (sum would also work) of probabilities as evaluation measure for animation (the higher, the better)\n",
    "        \n",
    "        # backward and optimize\n",
    "        loss.backward()\n",
    "        optimizer.step()\n",
    "        \n",
    "        # store loss\n",
    "        train_loss.append(loss.item())\n",
    "    \n",
    "    # get averaged train loss\n",
    "    train_loss = np.mean(train_loss)\n",
    "    \n",
    "    for inputs, targets in test_loader:\n",
    "        inputs, targets = inputs.to(device), targets.to(device)\n",
    "        \n",
    "        # forward pass\n",
    "        outputs = create_animation_vector(animation_predictor.forward(inputs))\n",
    "        sm_logits = sm(outputs)\n",
    "        sm_probas = torch.sigmoid(sm_logits)\n",
    "        loss = -(sm_probas).mean()\n",
    "        \n",
    "        # store loss\n",
    "        test_loss.append(loss.item())\n",
    "    \n",
    "    # get averaged test loss\n",
    "    test_loss = np.mean(test_loss)\n",
    "    \n",
    "    # save losses\n",
    "    train_losses[it] = train_loss\n",
    "    test_losses[it] = test_loss\n",
    "    \n",
    "    print(f'Epoch: {it + 1}/{n_epochs}::Train loss={1-abs(train_loss):.4f}, test loss={1-abs(test_loss):.4f}')"
   ]
  },
  {
   "cell_type": "code",
   "execution_count": 20,
   "id": "3883336c",
   "metadata": {},
   "outputs": [
    {
     "data": {
      "text/plain": [
       "<AxesSubplot:xlabel='epoch'>"
      ]
     },
     "execution_count": 20,
     "metadata": {},
     "output_type": "execute_result"
    },
    {
     "data": {
      "image/png": "[encoded data removed]",
      "text/plain": [
       "<Figure size 432x288 with 1 Axes>"
      ]
     },
     "metadata": {
      "needs_background": "light"
     },
     "output_type": "display_data"
    }
   ],
   "source": [
    "i = 30\n",
    "loss = pd.DataFrame({'epoch': list(range(i)), 'train loss': [1-abs(l) for l in train_losses][:i], 'test loss': [1-abs(l) for l in test_losses][:i]})\n",
    "loss.plot(x='epoch', y=['train loss', 'test loss'], kind=\"line\")"
   ]
  },
  {
   "cell_type": "code",
   "execution_count": 21,
   "id": "1c238569",
   "metadata": {},
   "outputs": [
    {
     "data": {
      "text/plain": [
       "<AxesSubplot:xlabel='epoch'>"
      ]
     },
     "execution_count": 21,
     "metadata": {},
     "output_type": "execute_result"
    },
    {
     "data": {
      "image/png": "[encoded data removed]",
      "text/plain": [
       "<Figure size 432x288 with 1 Axes>"
      ]
     },
     "metadata": {
      "needs_background": "light"
     },
     "output_type": "display_data"
    }
   ],
   "source": [
    "# To reproduce this graph, please set n_epochs=50 in training\n",
    "i = 50\n",
    "loss = pd.DataFrame({'epoch': list(range(i)), 'train loss': [1-abs(l) for l in train_losses][:i], 'test loss': [1-abs(l) for l in test_losses][:i]})\n",
    "loss.plot(x='epoch', y=['train loss', 'test loss'], kind=\"line\")"
   ]
  },
  {
   "cell_type": "code",
   "execution_count": 22,
   "id": "0acc2b82",
   "metadata": {},
   "outputs": [],
   "source": [
    "torch.save(animation_predictor, f'models/ap_best_model.pkl')\n",
    "torch.save(animation_predictor.state_dict(), f'models/ap_best_model_state_dict.pth')"
   ]
  },
  {
   "cell_type": "markdown",
   "id": "2371fed5",
   "metadata": {},
   "source": [
    "## Insertion of animations"
   ]
  },
  {
   "cell_type": "code",
   "execution_count": 22,
   "id": "82400767",
   "metadata": {},
   "outputs": [],
   "source": [
    "animation_predictions = create_animation_vector(animation_predictor(test.X))"
   ]
  },
  {
   "cell_type": "code",
   "execution_count": 23,
   "id": "b568eb0b",
   "metadata": {},
   "outputs": [],
   "source": [
    "test_data = pd.read_csv('data/path_selector/selected_paths_test.csv')"
   ]
  },
  {
   "cell_type": "code",
   "execution_count": 24,
   "id": "aeaa5038",
   "metadata": {
    "scrolled": true
   },
   "outputs": [
    {
     "name": "stdout",
     "output_type": "stream",
     "text": [
      "Animate logo 0/86\n",
      "Animate logo 20/86\n",
      "Animate logo 40/86\n",
      "Animate logo 60/86\n",
      "Animate logo 80/86\n",
      "Wall time: 2min 15s\n"
     ]
    }
   ],
   "source": [
    "%%time\n",
    "logos = test_data['filename'].unique()\n",
    "for i, logo in enumerate(logos):\n",
    "    if i % 20 == 0:\n",
    "        print(f'Animate logo {i}/{len(logos)}')\n",
    "    preds = animation_predictions[test_data[test_data['filename'] == logo].index.tolist()].detach().numpy()\n",
    "    animation_ids = test_data[test_data['filename'] == logo]['animation_id'].tolist()\n",
    "    create_animated_svg(f'data/svgs_preprocessed_expanded/{logo}.svg', animation_ids, preds)"
   ]
  }
 ],
 "metadata": {
  "kernelspec": {
   "display_name": "animate_logos",
   "language": "python",
   "name": "animate_logos"
  },
  "language_info": {
   "codemirror_mode": {
    "name": "ipython",
    "version": 3
   },
   "file_extension": ".py",
   "mimetype": "text/x-python",
   "name": "python",
   "nbconvert_exporter": "python",
   "pygments_lexer": "ipython3",
   "version": "3.7.10"
  }
 },
 "nbformat": 4,
 "nbformat_minor": 5
}
